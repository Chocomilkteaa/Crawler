{
 "cells": [
  {
   "cell_type": "code",
   "execution_count": 1,
   "metadata": {},
   "outputs": [],
   "source": [
    "import requests\n",
    "from bs4 import BeautifulSoup\n",
    "import pandas as pd\n",
    "import time\n",
    "import random"
   ]
  },
  {
   "cell_type": "markdown",
   "metadata": {},
   "source": [
    "# 公開資訊觀測站"
   ]
  },
  {
   "cell_type": "markdown",
   "metadata": {},
   "source": [
    "## 上市 / 上櫃 / 興櫃 累計與當月營業收入統計表"
   ]
  },
  {
   "cell_type": "code",
   "execution_count": 16,
   "metadata": {},
   "outputs": [],
   "source": [
    "def getMonthlyRevenue(year, month):\n",
    "    companyMarketCategories = ['sii', 'otc', 'rotc']\n",
    "\n",
    "    columns=['公司代號', \n",
    "             '公司名稱', \n",
    "             '當月營收', \n",
    "             '上月營收', \n",
    "             '去年當月營收', \n",
    "             '上月比較增減(%)', \n",
    "             '去年同月增減(%)', \n",
    "             '當月累計營收', \n",
    "             '去年累計營收', \n",
    "             '前期比較增減(%)', \n",
    "             '備註']\n",
    "\n",
    "    monthlyRevenueDataFrame = pd.DataFrame(columns=columns)\n",
    "\n",
    "    for companyMarketCategory in companyMarketCategories:\n",
    "        url = 'https://mops.twse.com.tw/nas/t21/' + companyMarketCategory + '/t21sc03_' + str(year) + '_' + str(month) + '_0.html'\n",
    "        try:\n",
    "            response = requests.get(url)\n",
    "            response.encoding = 'big5'\n",
    "\n",
    "            htmlTextParsed = BeautifulSoup(response.text, 'html.parser')\n",
    "            allCompaniesByIndustrialCategoryTables = htmlTextParsed.find_all(name='table', attrs={'border': 5})\n",
    "\n",
    "            # the last table is summation\n",
    "            for allCompaniesPerIndustrialCategoryTable in allCompaniesByIndustrialCategoryTables[:-1]:\n",
    "                allCompaniesPerIndustrialCategoryRows = allCompaniesPerIndustrialCategoryTable.find_all(name='tr', attrs={'align':'right'})\n",
    "                # the last row is summation\n",
    "                for singleCompanyRow in allCompaniesPerIndustrialCategoryRows[:-1]:\n",
    "                    singleCompanyColumns = singleCompanyRow.find_all('td')\n",
    "                    singleCompanyDictionary = {}\n",
    "                    for i in range(len(singleCompanyColumns)):\n",
    "                        singleCompanyDictionary[columns[i]] = singleCompanyColumns[i].text.strip()\n",
    "                    monthlyRevenueDataFrame.loc[len(monthlyRevenueDataFrame)] = singleCompanyDictionary\n",
    "            \n",
    "        except requests.RequestException as errorMessage:\n",
    "            print(errorMessage)\n",
    "        \n",
    "        # pause for website access limitation\n",
    "        time.sleep(random.randint(1, 5))\n",
    "\n",
    "    monthlyRevenueDataFrame.to_csv('./Data/monthly_revenue_' + str(year) + '_' + str(month) + '.csv', index=False)\n",
    "    return monthlyRevenueDataFrame.shape"
   ]
  },
  {
   "cell_type": "code",
   "execution_count": 17,
   "metadata": {},
   "outputs": [
    {
     "name": "stdout",
     "output_type": "stream",
     "text": [
      "(1867, 11)\n"
     ]
    }
   ],
   "source": [
    "monthlyRevenueDataFrameShape = getMonthlyRevenue(113,7)\n",
    "print(monthlyRevenueDataFrameShape)"
   ]
  },
  {
   "cell_type": "markdown",
   "metadata": {},
   "source": [
    "## 上市 / 上櫃 / 興櫃 財務分析資料查詢彙總表"
   ]
  },
  {
   "cell_type": "code",
   "execution_count": 20,
   "metadata": {},
   "outputs": [],
   "source": [
    "def getAnnualFinantialAnalysis(year):\n",
    "    url = 'https://mops.twse.com.tw/mops/web/ajax_t51sb02'\n",
    "\n",
    "    companyMarketCategories = ['sii', 'otc', 'rotc']\n",
    "\n",
    "    columns = ['公司代號','公司簡稱','負債佔資產比率(%)','長期資金佔不動產、廠房及設備比率(%)','流動比率(%)','速動比率(%)','利息保障倍數(%)','應收款項週轉率(次)','平均收現日數','存貨週轉率(次)','平均銷貨日數','不動產、廠房及設備週轉率(次)','總資產週轉率(次)','資產報酬率(%)','權益報酬率(%)','稅前純益佔實收資本比率(%)','純益率(%)','每股盈餘(元)','現金流量比率(%)','現金流量允當比率(%)','現金再投資比率(%)']\n",
    "    annualFinantialAnalysisDataFrame = pd.DataFrame(columns=columns)\n",
    "\n",
    "    dataForPostRequest = {\n",
    "        'encodeURIComponent': 1,\n",
    "        'step': 1,\n",
    "        'TYPEK': 'sii',\n",
    "        'year': year,\n",
    "        'firstin': 1,\n",
    "        'off': 1,\n",
    "        'ifrs': 'Y',\n",
    "    }\n",
    "\n",
    "    for companyMarketCategory in companyMarketCategories:\n",
    "        dataForPostRequest['TYPEK'] = companyMarketCategory\n",
    "        try:\n",
    "            response = requests.post(url, data=dataForPostRequest)\n",
    "            \n",
    "            htmlTextParsed = BeautifulSoup(response.text, 'html.parser')\n",
    "            allCompaniesTable = htmlTextParsed.find(name='table', attrs={'class': 'hasBorder'})\n",
    "\n",
    "            allCompaniesRows = allCompaniesTable.find_all('tr', attrs={'class': ['even', 'odd']})\n",
    "\n",
    "            for singleCompanyRow in allCompaniesRows:\n",
    "                singleCompanyColumns = singleCompanyRow.find_all('td')\n",
    "                singleCompanyDictionary = {}\n",
    "                for i in range(len(singleCompanyColumns)):\n",
    "                    singleCompanyDictionary[columns[i]] = singleCompanyColumns[i].text.strip()\n",
    "                annualFinantialAnalysisDataFrame.loc[len(annualFinantialAnalysisDataFrame)] = singleCompanyDictionary\n",
    "            \n",
    "        except requests.RequestException as errorMessage:\n",
    "            print(errorMessage)\n",
    "        \n",
    "        # pause for website access limitation\n",
    "        time.sleep(random.randint(1, 5))    \n",
    "    annualFinantialAnalysisDataFrame.to_csv('./Data/annual_financial_analysis_' + str(year) + '.csv', index=False)\n",
    "    return annualFinantialAnalysisDataFrame.shape"
   ]
  },
  {
   "cell_type": "code",
   "execution_count": 21,
   "metadata": {},
   "outputs": [
    {
     "name": "stdout",
     "output_type": "stream",
     "text": [
      "(2107, 21)\n"
     ]
    }
   ],
   "source": [
    "annualFinantialAnalysisDataFrameShape = getAnnualFinantialAnalysis(112)\n",
    "print(annualFinantialAnalysisDataFrameShape)"
   ]
  },
  {
   "cell_type": "markdown",
   "metadata": {},
   "source": [
    "## 上市 / 上櫃 / 興櫃 綜合損益表"
   ]
  },
  {
   "cell_type": "code",
   "execution_count": 24,
   "metadata": {},
   "outputs": [],
   "source": [
    "def getQuarterlyIncomeStatement(year, season):\n",
    "    url = 'https://mops.twse.com.tw/mops/web/ajax_t163sb04'\n",
    "\n",
    "    companyMarketCategories = ['sii', 'otc', 'rotc']\n",
    "\n",
    "    quarterlyIncomeStatementDataFrame = pd.DataFrame()\n",
    "\n",
    "    dataForPostRequest = {\n",
    "        'encodeURIComponent': 1,\n",
    "        'step': 1,\n",
    "        'firstin': 1,\n",
    "        'off': 1,\n",
    "        'isQuery': 'Y',\n",
    "        'TYPEK': 'sii',\n",
    "        'year': str(year),\n",
    "        'season': '0'+str(season),\n",
    "    }\n",
    "\n",
    "    for companyMarketCategory in companyMarketCategories:\n",
    "        dataForPostRequest['TYPEK'] = companyMarketCategory\n",
    "\n",
    "        try:\n",
    "            response = requests.post(url, data=dataForPostRequest)\n",
    "\n",
    "            htmlTextParsed = BeautifulSoup(response.text, 'html.parser')\n",
    "            allCompaniesByIndustrialCategoryTables = htmlTextParsed.find_all(name='table', attrs={'class':'hasBorder'})\n",
    "\n",
    "            for allCompaniesPerIndustrialCategoryTable in allCompaniesByIndustrialCategoryTables:\n",
    "                columnNames = allCompaniesPerIndustrialCategoryTable.find_all('th')\n",
    "                columns = []\n",
    "                for columnName in columnNames:\n",
    "                    columns.append(columnName.text.strip())\n",
    "\n",
    "                quarterlyIncomeStatementPerIndustrialCategoryDataFrame = pd.DataFrame(columns=columns)\n",
    "\n",
    "                allCompaniesPerIndustrialCategoryRows = allCompaniesPerIndustrialCategoryTable.find_all(name='tr', attrs={'class':['even', 'odd']})\n",
    "                for singleCompanyRow in allCompaniesPerIndustrialCategoryRows:\n",
    "                    singleCompanyColumns = singleCompanyRow.find_all('td')\n",
    "                    singleCompanyDictionary = {}\n",
    "                    for i in range(len(singleCompanyColumns)):\n",
    "                        singleCompanyDictionary[columns[i]] = singleCompanyColumns[i].text.strip()\n",
    "                    quarterlyIncomeStatementPerIndustrialCategoryDataFrame.loc[len(quarterlyIncomeStatementPerIndustrialCategoryDataFrame)] = singleCompanyDictionary\n",
    "\n",
    "                quarterlyIncomeStatementDataFrame = pd.concat([quarterlyIncomeStatementDataFrame, quarterlyIncomeStatementPerIndustrialCategoryDataFrame], ignore_index=True)\n",
    "\n",
    "        except requests.RequestException as errorMessage:\n",
    "            print(errorMessage)\n",
    "\n",
    "        # pause for website access limitation\n",
    "        time.sleep(random.randint(1, 5))\n",
    " \n",
    "    quarterlyIncomeStatementDataFrame.to_csv('./Data/quarterly_income_statement_' + str(year) + '_' + str(season) + '.csv', index=False)\n",
    "    return quarterlyIncomeStatementDataFrame.shape"
   ]
  },
  {
   "cell_type": "code",
   "execution_count": 25,
   "metadata": {},
   "outputs": [
    {
     "name": "stdout",
     "output_type": "stream",
     "text": [
      "(1879, 57)\n"
     ]
    }
   ],
   "source": [
    "quarterlyIncomeStatementDataFrameShape = getQuarterlyIncomeStatement(113, 1)\n",
    "print(quarterlyIncomeStatementDataFrameShape)"
   ]
  }
 ],
 "metadata": {
  "kernelspec": {
   "display_name": "crawl",
   "language": "python",
   "name": "python3"
  },
  "language_info": {
   "codemirror_mode": {
    "name": "ipython",
    "version": 3
   },
   "file_extension": ".py",
   "mimetype": "text/x-python",
   "name": "python",
   "nbconvert_exporter": "python",
   "pygments_lexer": "ipython3",
   "version": "3.9.19"
  }
 },
 "nbformat": 4,
 "nbformat_minor": 2
}
